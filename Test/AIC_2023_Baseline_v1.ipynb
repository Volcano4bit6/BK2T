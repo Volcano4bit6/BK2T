{
 "cells": [
  {
   "cell_type": "markdown",
   "id": "5fcc581b",
   "metadata": {
    "id": "5fcc581b"
   },
   "source": [
    "# Hướng dẫn truy vấn dữ liệu thị giác dùng fiftyone\n",
    "\n",
    "Đây là hướng dẫn dùng cho các đội tham dự AI Challenge 2023. Hướng dẫn này nhằm mục đích giới thiệu cho các đội một phương pháp cơ bản để truy vấn dữ liệu dựa trên thông tin BTC cung cấp và giới thiệu công cụ fiftyone để hỗ trợ đội thi đánh giá kết quả.\n",
    "\n",
    "## Cài đặt ban đầu\n",
    "\n",
    "Bạn cần cài đặt môi trường để chạy được notebook này trên máy tính cá nhân của bạn. Hướng dẫn này không bao gồm phần cài đặt môi trường. Khuyến nghị: các bạn có thể cài đặt [Anaconda](https://docs.anaconda.com/free/anaconda/install/windows/).\n",
    "\n",
    "## Cài đặt các thư viện FiftyOne và PyTorch\n",
    "Hướng dẫn này dùng fiftyone là công cụ để trực quan dữ liệu và pytorch là backend chính cho các thuật toán máy học.\n",
    "\n",
    "### Lưu ý: Đối với các bạn dùng Windows nên dùng bản fiftyone **v0.21.4**, không nên dùng bản mới nhất!"
   ]
  },
  {
   "cell_type": "code",
   "execution_count": 1,
   "id": "f5a576d0",
   "metadata": {
    "id": "f5a576d0"
   },
   "outputs": [
    {
     "name": "stdout",
     "output_type": "stream",
     "text": [
      "Collecting fiftyone==0.21.4\n",
      "  Downloading fiftyone-0.21.4-py3-none-any.whl (7.7 MB)\n",
      "     ---------------------------------------- 7.7/7.7 MB 11.9 MB/s eta 0:00:00\n",
      "Collecting sse-starlette<1,>=0.10.3\n",
      "  Downloading sse_starlette-0.10.3-py3-none-any.whl (8.0 kB)\n",
      "Collecting starlette<0.27,>=0.24.0\n",
      "  Downloading starlette-0.26.1-py3-none-any.whl (66 kB)\n",
      "     ---------------------------------------- 66.9/66.9 kB ? eta 0:00:00\n",
      "Collecting eventlet\n",
      "  Downloading eventlet-0.33.3-py2.py3-none-any.whl (226 kB)\n",
      "     ------------------------------------- 226.8/226.8 kB 13.5 MB/s eta 0:00:00\n",
      "Requirement already satisfied: setuptools in c:\\users\\pc22002\\anaconda3\\lib\\site-packages (from fiftyone==0.21.4) (65.6.3)\n",
      "Collecting fiftyone-brain<0.14,>=0.13\n",
      "  Downloading fiftyone_brain-0.13.1-py3-none-any.whl (78 kB)\n",
      "     ---------------------------------------- 78.5/78.5 kB ? eta 0:00:00\n",
      "Collecting opencv-python-headless\n",
      "  Downloading opencv_python_headless-4.8.0.76-cp37-abi3-win_amd64.whl (38.0 MB)\n",
      "     --------------------------------------- 38.0/38.0 MB 15.2 MB/s eta 0:00:00\n",
      "Collecting kaleido\n",
      "  Downloading kaleido-0.2.1-py2.py3-none-win_amd64.whl (65.9 MB)\n",
      "     ---------------------------------------- 65.9/65.9 MB 7.9 MB/s eta 0:00:00\n",
      "Requirement already satisfied: plotly>=4.14 in c:\\users\\pc22002\\anaconda3\\lib\\site-packages (from fiftyone==0.21.4) (5.9.0)\n",
      "Requirement already satisfied: pandas in c:\\users\\pc22002\\anaconda3\\lib\\site-packages (from fiftyone==0.21.4) (1.5.3)\n",
      "Collecting pymongo>=3.12\n",
      "  Downloading pymongo-4.5.0-cp310-cp310-win_amd64.whl (468 kB)\n",
      "     ------------------------------------- 468.2/468.2 kB 30.5 MB/s eta 0:00:00\n",
      "Collecting retrying\n",
      "  Downloading retrying-1.3.4-py3-none-any.whl (11 kB)\n",
      "Requirement already satisfied: packaging in c:\\users\\pc22002\\anaconda3\\lib\\site-packages (from fiftyone==0.21.4) (22.0)\n",
      "Requirement already satisfied: pytz in c:\\users\\pc22002\\anaconda3\\lib\\site-packages (from fiftyone==0.21.4) (2022.7)\n",
      "Requirement already satisfied: future in c:\\users\\pc22002\\anaconda3\\lib\\site-packages (from fiftyone==0.21.4) (0.18.3)\n",
      "Collecting xmltodict\n",
      "  Downloading xmltodict-0.13.0-py2.py3-none-any.whl (10.0 kB)\n",
      "Collecting dacite<1.8.0,>=1.6.0\n",
      "  Downloading dacite-1.7.0-py3-none-any.whl (12 kB)\n",
      "Collecting pprintpp\n",
      "  Downloading pprintpp-0.4.0-py2.py3-none-any.whl (16 kB)\n",
      "Collecting argcomplete\n",
      "  Downloading argcomplete-3.1.1-py3-none-any.whl (41 kB)\n",
      "     ---------------------------------------- 41.5/41.5 kB ? eta 0:00:00\n",
      "Collecting mongoengine==0.24.2\n",
      "  Downloading mongoengine-0.24.2-py3-none-any.whl (108 kB)\n",
      "     ---------------------------------------- 108.9/108.9 kB ? eta 0:00:00\n",
      "Requirement already satisfied: scikit-learn in c:\\users\\pc22002\\anaconda3\\lib\\site-packages (from fiftyone==0.21.4) (1.2.1)\n",
      "Requirement already satisfied: tabulate in c:\\users\\pc22002\\anaconda3\\lib\\site-packages (from fiftyone==0.21.4) (0.8.10)\n",
      "Collecting ftfy\n",
      "  Downloading ftfy-6.1.1-py3-none-any.whl (53 kB)\n",
      "     ---------------------------------------- 53.1/53.1 kB ? eta 0:00:00\n",
      "Collecting motor>=2.5\n",
      "  Downloading motor-3.2.0-py3-none-any.whl (58 kB)\n",
      "     ---------------------------------------- 58.2/58.2 kB 3.0 MB/s eta 0:00:00\n",
      "Collecting cachetools\n",
      "  Downloading cachetools-5.3.1-py3-none-any.whl (9.3 kB)\n",
      "Requirement already satisfied: numpy in c:\\users\\pc22002\\anaconda3\\lib\\site-packages (from fiftyone==0.21.4) (1.23.5)\n",
      "Requirement already satisfied: regex in c:\\users\\pc22002\\anaconda3\\lib\\site-packages (from fiftyone==0.21.4) (2022.7.9)\n",
      "Collecting strawberry-graphql==0.138.1\n",
      "  Downloading strawberry_graphql-0.138.1-py3-none-any.whl (192 kB)\n",
      "     ------------------------------------- 192.5/192.5 kB 11.4 MB/s eta 0:00:00\n",
      "Requirement already satisfied: Jinja2>=3 in c:\\users\\pc22002\\anaconda3\\lib\\site-packages (from fiftyone==0.21.4) (3.1.2)\n",
      "Collecting boto3\n",
      "  Downloading boto3-1.28.33-py3-none-any.whl (135 kB)\n",
      "     -------------------------------------- 135.8/135.8 kB 7.8 MB/s eta 0:00:00\n",
      "Requirement already satisfied: scikit-image in c:\\users\\pc22002\\anaconda3\\lib\\site-packages (from fiftyone==0.21.4) (0.19.3)\n",
      "Requirement already satisfied: PyYAML in c:\\users\\pc22002\\anaconda3\\lib\\site-packages (from fiftyone==0.21.4) (6.0)\n",
      "Requirement already satisfied: psutil in c:\\users\\pc22002\\anaconda3\\lib\\site-packages (from fiftyone==0.21.4) (5.9.0)\n",
      "Requirement already satisfied: matplotlib in c:\\users\\pc22002\\anaconda3\\lib\\site-packages (from fiftyone==0.21.4) (3.7.0)\n",
      "Collecting aiofiles\n",
      "  Downloading aiofiles-23.2.1-py3-none-any.whl (15 kB)\n",
      "Collecting fiftyone-db<0.5,>=0.4\n",
      "  Downloading fiftyone_db-0.4.0-py3-none-win_amd64.whl (20.1 MB)\n",
      "     --------------------------------------- 20.1/20.1 MB 13.3 MB/s eta 0:00:00\n",
      "Collecting Deprecated\n",
      "  Downloading Deprecated-1.2.14-py2.py3-none-any.whl (9.6 kB)\n",
      "Collecting voxel51-eta<0.11,>=0.10\n",
      "  Downloading voxel51_eta-0.10.0-py2.py3-none-any.whl (568 kB)\n",
      "     ------------------------------------- 568.9/568.9 kB 18.0 MB/s eta 0:00:00\n",
      "Collecting sseclient-py<2,>=1.7.2\n",
      "  Downloading sseclient_py-1.7.2-py2.py3-none-any.whl (8.4 kB)\n",
      "Requirement already satisfied: Pillow>=6.2 in c:\\users\\pc22002\\anaconda3\\lib\\site-packages (from fiftyone==0.21.4) (9.4.0)\n",
      "Collecting hypercorn>=0.13.2\n",
      "  Downloading hypercorn-0.14.4-py3-none-any.whl (58 kB)\n",
      "     ---------------------------------------- 58.3/58.3 kB ? eta 0:00:00\n",
      "Collecting universal-analytics-python3<2,>=1.0.1\n",
      "  Downloading universal_analytics_python3-1.1.1-py3-none-any.whl (10 kB)\n",
      "Collecting graphql-core<3.3.0,>=3.2.0\n",
      "  Downloading graphql_core-3.2.3-py3-none-any.whl (202 kB)\n",
      "     ---------------------------------------- 202.9/202.9 kB ? eta 0:00:00\n",
      "Requirement already satisfied: python-dateutil<3.0.0,>=2.7.0 in c:\\users\\pc22002\\anaconda3\\lib\\site-packages (from strawberry-graphql==0.138.1->fiftyone==0.21.4) (2.8.2)\n",
      "Requirement already satisfied: typing_extensions<5.0.0,>=3.7.4 in c:\\users\\pc22002\\anaconda3\\lib\\site-packages (from strawberry-graphql==0.138.1->fiftyone==0.21.4) (4.4.0)\n",
      "Requirement already satisfied: scipy>=1.2.0 in c:\\users\\pc22002\\anaconda3\\lib\\site-packages (from fiftyone-brain<0.14,>=0.13->fiftyone==0.21.4) (1.10.0)\n",
      "Collecting priority\n",
      "  Downloading priority-2.0.0-py3-none-any.whl (8.9 kB)\n",
      "Collecting h2>=3.1.0\n",
      "  Downloading h2-4.1.0-py3-none-any.whl (57 kB)\n",
      "     ---------------------------------------- 57.5/57.5 kB ? eta 0:00:00\n",
      "Requirement already satisfied: tomli in c:\\users\\pc22002\\anaconda3\\lib\\site-packages (from hypercorn>=0.13.2->fiftyone==0.21.4) (2.0.1)\n",
      "Collecting h11\n",
      "  Downloading h11-0.14.0-py3-none-any.whl (58 kB)\n",
      "     ---------------------------------------- 58.3/58.3 kB ? eta 0:00:00\n",
      "Collecting wsproto>=0.14.0\n",
      "  Downloading wsproto-1.2.0-py3-none-any.whl (24 kB)\n",
      "Requirement already satisfied: MarkupSafe>=2.0 in c:\\users\\pc22002\\anaconda3\\lib\\site-packages (from Jinja2>=3->fiftyone==0.21.4) (2.1.1)\n",
      "Requirement already satisfied: tenacity>=6.2.0 in c:\\users\\pc22002\\anaconda3\\lib\\site-packages (from plotly>=4.14->fiftyone==0.21.4) (8.0.1)\n",
      "Collecting dnspython<3.0.0,>=1.16.0\n",
      "  Downloading dnspython-2.4.2-py3-none-any.whl (300 kB)\n",
      "     ------------------------------------- 300.4/300.4 kB 18.1 MB/s eta 0:00:00\n",
      "Requirement already satisfied: anyio<5,>=3.4.0 in c:\\users\\pc22002\\anaconda3\\lib\\site-packages (from starlette<0.27,>=0.24.0->fiftyone==0.21.4) (3.5.0)\n",
      "Collecting httpx>=0.10.0\n",
      "  Downloading httpx-0.24.1-py3-none-any.whl (75 kB)\n",
      "     ---------------------------------------- 75.4/75.4 kB ? eta 0:00:00\n",
      "Requirement already satisfied: dill in c:\\users\\pc22002\\anaconda3\\lib\\site-packages (from voxel51-eta<0.11,>=0.10->fiftyone==0.21.4) (0.3.6)\n",
      "Collecting jsonlines\n",
      "  Downloading jsonlines-3.1.0-py3-none-any.whl (8.6 kB)\n",
      "Requirement already satisfied: glob2 in c:\\users\\pc22002\\anaconda3\\lib\\site-packages (from voxel51-eta<0.11,>=0.10->fiftyone==0.21.4) (0.7)\n",
      "Requirement already satisfied: sortedcontainers in c:\\users\\pc22002\\anaconda3\\lib\\site-packages (from voxel51-eta<0.11,>=0.10->fiftyone==0.21.4) (2.4.0)\n",
      "Requirement already satisfied: requests in c:\\users\\pc22002\\anaconda3\\lib\\site-packages (from voxel51-eta<0.11,>=0.10->fiftyone==0.21.4) (2.28.1)\n",
      "Collecting tzlocal\n",
      "  Downloading tzlocal-5.0.1-py3-none-any.whl (20 kB)\n",
      "Collecting py7zr\n",
      "  Downloading py7zr-0.20.6-py3-none-any.whl (66 kB)\n",
      "     ---------------------------------------- 66.7/66.7 kB 3.8 MB/s eta 0:00:00\n",
      "Collecting rarfile\n",
      "  Downloading rarfile-4.0-py3-none-any.whl (28 kB)\n",
      "Requirement already satisfied: six in c:\\users\\pc22002\\anaconda3\\lib\\site-packages (from voxel51-eta<0.11,>=0.10->fiftyone==0.21.4) (1.16.0)\n",
      "Requirement already satisfied: urllib3 in c:\\users\\pc22002\\anaconda3\\lib\\site-packages (from voxel51-eta<0.11,>=0.10->fiftyone==0.21.4) (1.26.14)\n",
      "Collecting s3transfer<0.7.0,>=0.6.0\n",
      "  Downloading s3transfer-0.6.2-py3-none-any.whl (79 kB)\n",
      "     ---------------------------------------- 79.8/79.8 kB 4.3 MB/s eta 0:00:00\n",
      "Requirement already satisfied: jmespath<2.0.0,>=0.7.1 in c:\\users\\pc22002\\anaconda3\\lib\\site-packages (from boto3->fiftyone==0.21.4) (0.10.0)\n",
      "Collecting botocore<1.32.0,>=1.31.33\n",
      "  Downloading botocore-1.31.33-py3-none-any.whl (11.1 MB)\n",
      "     --------------------------------------- 11.1/11.1 MB 16.4 MB/s eta 0:00:00\n",
      "Requirement already satisfied: wrapt<2,>=1.10 in c:\\users\\pc22002\\anaconda3\\lib\\site-packages (from Deprecated->fiftyone==0.21.4) (1.14.1)\n",
      "Requirement already satisfied: greenlet>=0.3 in c:\\users\\pc22002\\anaconda3\\lib\\site-packages (from eventlet->fiftyone==0.21.4) (2.0.1)\n",
      "Requirement already satisfied: wcwidth>=0.2.5 in c:\\users\\pc22002\\anaconda3\\lib\\site-packages (from ftfy->fiftyone==0.21.4) (0.2.5)\n",
      "Requirement already satisfied: kiwisolver>=1.0.1 in c:\\users\\pc22002\\anaconda3\\lib\\site-packages (from matplotlib->fiftyone==0.21.4) (1.4.4)\n",
      "Requirement already satisfied: pyparsing>=2.3.1 in c:\\users\\pc22002\\anaconda3\\lib\\site-packages (from matplotlib->fiftyone==0.21.4) (3.0.9)\n",
      "Requirement already satisfied: contourpy>=1.0.1 in c:\\users\\pc22002\\anaconda3\\lib\\site-packages (from matplotlib->fiftyone==0.21.4) (1.0.5)\n",
      "Requirement already satisfied: fonttools>=4.22.0 in c:\\users\\pc22002\\anaconda3\\lib\\site-packages (from matplotlib->fiftyone==0.21.4) (4.25.0)\n",
      "Requirement already satisfied: cycler>=0.10 in c:\\users\\pc22002\\anaconda3\\lib\\site-packages (from matplotlib->fiftyone==0.21.4) (0.11.0)\n",
      "Requirement already satisfied: imageio>=2.4.1 in c:\\users\\pc22002\\anaconda3\\lib\\site-packages (from scikit-image->fiftyone==0.21.4) (2.26.0)\n",
      "Requirement already satisfied: PyWavelets>=1.1.1 in c:\\users\\pc22002\\anaconda3\\lib\\site-packages (from scikit-image->fiftyone==0.21.4) (1.4.1)\n",
      "Requirement already satisfied: networkx>=2.2 in c:\\users\\pc22002\\anaconda3\\lib\\site-packages (from scikit-image->fiftyone==0.21.4) (2.8.4)\n",
      "Requirement already satisfied: tifffile>=2019.7.26 in c:\\users\\pc22002\\anaconda3\\lib\\site-packages (from scikit-image->fiftyone==0.21.4) (2021.7.2)\n",
      "Requirement already satisfied: threadpoolctl>=2.0.0 in c:\\users\\pc22002\\anaconda3\\lib\\site-packages (from scikit-learn->fiftyone==0.21.4) (2.2.0)\n",
      "Requirement already satisfied: joblib>=1.1.1 in c:\\users\\pc22002\\anaconda3\\lib\\site-packages (from scikit-learn->fiftyone==0.21.4) (1.1.1)\n",
      "Requirement already satisfied: sniffio>=1.1 in c:\\users\\pc22002\\anaconda3\\lib\\site-packages (from anyio<5,>=3.4.0->starlette<0.27,>=0.24.0->fiftyone==0.21.4) (1.2.0)\n",
      "Requirement already satisfied: idna>=2.8 in c:\\users\\pc22002\\anaconda3\\lib\\site-packages (from anyio<5,>=3.4.0->starlette<0.27,>=0.24.0->fiftyone==0.21.4) (3.4)\n",
      "Collecting hyperframe<7,>=6.0\n",
      "  Downloading hyperframe-6.0.1-py3-none-any.whl (12 kB)\n",
      "Collecting hpack<5,>=4.0\n",
      "  Downloading hpack-4.0.0-py3-none-any.whl (32 kB)\n",
      "Collecting httpcore<0.18.0,>=0.15.0\n",
      "  Downloading httpcore-0.17.3-py3-none-any.whl (74 kB)\n",
      "     ---------------------------------------- 74.5/74.5 kB ? eta 0:00:00\n",
      "Requirement already satisfied: certifi in c:\\users\\pc22002\\anaconda3\\lib\\site-packages (from httpx>=0.10.0->universal-analytics-python3<2,>=1.0.1->fiftyone==0.21.4) (2022.12.7)\n",
      "Requirement already satisfied: attrs>=19.2.0 in c:\\users\\pc22002\\anaconda3\\lib\\site-packages (from jsonlines->voxel51-eta<0.11,>=0.10->fiftyone==0.21.4) (22.1.0)\n",
      "Collecting multivolumefile>=0.2.3\n",
      "  Downloading multivolumefile-0.2.3-py3-none-any.whl (17 kB)\n",
      "Collecting brotli>=1.0.9\n",
      "  Downloading Brotli-1.0.9-cp310-cp310-win_amd64.whl (383 kB)\n",
      "     ------------------------------------- 383.3/383.3 kB 11.7 MB/s eta 0:00:00\n",
      "Collecting pycryptodomex>=3.6.6\n",
      "  Using cached pycryptodomex-3.18.0-cp35-abi3-win_amd64.whl (1.7 MB)\n",
      "Collecting texttable\n",
      "  Downloading texttable-1.6.7-py2.py3-none-any.whl (10 kB)\n",
      "Collecting pyzstd>=0.14.4\n",
      "  Downloading pyzstd-0.15.9-cp310-cp310-win_amd64.whl (245 kB)\n",
      "     ------------------------------------- 245.3/245.3 kB 14.7 MB/s eta 0:00:00\n",
      "Collecting pyppmd<1.1.0,>=0.18.1\n",
      "  Downloading pyppmd-1.0.0-cp310-cp310-win_amd64.whl (46 kB)\n",
      "     ---------------------------------------- 46.1/46.1 kB ? eta 0:00:00\n",
      "Collecting pybcj>=0.6.0\n",
      "  Downloading pybcj-1.0.1-cp310-cp310-win_amd64.whl (24 kB)\n",
      "Collecting inflate64>=0.3.1\n",
      "  Downloading inflate64-0.3.1-cp310-cp310-win_amd64.whl (35 kB)\n",
      "Requirement already satisfied: charset-normalizer<3,>=2 in c:\\users\\pc22002\\anaconda3\\lib\\site-packages (from requests->voxel51-eta<0.11,>=0.10->fiftyone==0.21.4) (2.0.4)\n",
      "Collecting tzdata\n",
      "  Downloading tzdata-2023.3-py2.py3-none-any.whl (341 kB)\n",
      "     ---------------------------------------- 341.8/341.8 kB ? eta 0:00:00\n",
      "Installing collected packages: texttable, sseclient-py, rarfile, pprintpp, kaleido, brotli, xmltodict, tzdata, retrying, pyzstd, pyppmd, pycryptodomex, pybcj, priority, opencv-python-headless, multivolumefile, jsonlines, inflate64, hyperframe, hpack, h11, graphql-core, ftfy, fiftyone-db, dnspython, Deprecated, dacite, cachetools, argcomplete, aiofiles, wsproto, tzlocal, strawberry-graphql, starlette, pymongo, py7zr, httpcore, h2, eventlet, botocore, voxel51-eta, sse-starlette, s3transfer, motor, mongoengine, hypercorn, httpx, fiftyone-brain, universal-analytics-python3, boto3, fiftyone\n",
      "Successfully installed Deprecated-1.2.14 aiofiles-23.2.1 argcomplete-3.1.1 boto3-1.28.33 botocore-1.31.33 brotli-1.0.9 cachetools-5.3.1 dacite-1.7.0 dnspython-2.4.2 eventlet-0.33.3 fiftyone-0.21.4 fiftyone-brain-0.13.1 fiftyone-db-0.4.0 ftfy-6.1.1 graphql-core-3.2.3 h11-0.14.0 h2-4.1.0 hpack-4.0.0 httpcore-0.17.3 httpx-0.24.1 hypercorn-0.14.4 hyperframe-6.0.1 inflate64-0.3.1 jsonlines-3.1.0 kaleido-0.2.1 mongoengine-0.24.2 motor-3.2.0 multivolumefile-0.2.3 opencv-python-headless-4.8.0.76 pprintpp-0.4.0 priority-2.0.0 py7zr-0.20.6 pybcj-1.0.1 pycryptodomex-3.18.0 pymongo-4.5.0 pyppmd-1.0.0 pyzstd-0.15.9 rarfile-4.0 retrying-1.3.4 s3transfer-0.6.2 sse-starlette-0.10.3 sseclient-py-1.7.2 starlette-0.26.1 strawberry-graphql-0.138.1 texttable-1.6.7 tzdata-2023.3 tzlocal-5.0.1 universal-analytics-python3-1.1.1 voxel51-eta-0.10.0 wsproto-1.2.0 xmltodict-0.13.0\n",
      "Requirement already satisfied: torch in c:\\users\\pc22002\\anaconda3\\lib\\site-packages (1.12.1)\n",
      "Collecting torchvision\n",
      "  Downloading torchvision-0.15.2-cp310-cp310-win_amd64.whl (1.2 MB)\n",
      "     ---------------------------------------- 1.2/1.2 MB 5.1 MB/s eta 0:00:00\n",
      "Collecting torchaudio\n",
      "  Downloading torchaudio-2.0.2-cp310-cp310-win_amd64.whl (2.1 MB)\n",
      "     ---------------------------------------- 2.1/2.1 MB 27.1 MB/s eta 0:00:00\n",
      "Requirement already satisfied: typing_extensions in c:\\users\\pc22002\\anaconda3\\lib\\site-packages (from torch) (4.4.0)\n",
      "Requirement already satisfied: pillow!=8.3.*,>=5.3.0 in c:\\users\\pc22002\\anaconda3\\lib\\site-packages (from torchvision) (9.4.0)\n",
      "Collecting torch\n",
      "  Downloading torch-2.0.1-cp310-cp310-win_amd64.whl (172.3 MB)\n",
      "     -------------------------------------- 172.3/172.3 MB 8.3 MB/s eta 0:00:00\n",
      "Requirement already satisfied: numpy in c:\\users\\pc22002\\anaconda3\\lib\\site-packages (from torchvision) (1.23.5)\n",
      "Requirement already satisfied: requests in c:\\users\\pc22002\\anaconda3\\lib\\site-packages (from torchvision) (2.28.1)\n",
      "Requirement already satisfied: filelock in c:\\users\\pc22002\\anaconda3\\lib\\site-packages (from torch) (3.9.0)\n",
      "Requirement already satisfied: sympy in c:\\users\\pc22002\\anaconda3\\lib\\site-packages (from torch) (1.11.1)\n",
      "Requirement already satisfied: networkx in c:\\users\\pc22002\\anaconda3\\lib\\site-packages (from torch) (2.8.4)\n",
      "Requirement already satisfied: jinja2 in c:\\users\\pc22002\\anaconda3\\lib\\site-packages (from torch) (3.1.2)\n",
      "Requirement already satisfied: MarkupSafe>=2.0 in c:\\users\\pc22002\\anaconda3\\lib\\site-packages (from jinja2->torch) (2.1.1)\n",
      "Requirement already satisfied: charset-normalizer<3,>=2 in c:\\users\\pc22002\\anaconda3\\lib\\site-packages (from requests->torchvision) (2.0.4)\n",
      "Requirement already satisfied: urllib3<1.27,>=1.21.1 in c:\\users\\pc22002\\anaconda3\\lib\\site-packages (from requests->torchvision) (1.26.14)\n",
      "Requirement already satisfied: certifi>=2017.4.17 in c:\\users\\pc22002\\anaconda3\\lib\\site-packages (from requests->torchvision) (2022.12.7)\n",
      "Requirement already satisfied: idna<4,>=2.5 in c:\\users\\pc22002\\anaconda3\\lib\\site-packages (from requests->torchvision) (3.4)\n",
      "Requirement already satisfied: mpmath>=0.19 in c:\\users\\pc22002\\anaconda3\\lib\\site-packages (from sympy->torch) (1.2.1)\n",
      "Installing collected packages: torch, torchvision, torchaudio\n",
      "  Attempting uninstall: torch\n",
      "    Found existing installation: torch 1.12.1\n",
      "    Uninstalling torch-1.12.1:\n",
      "      Successfully uninstalled torch-1.12.1\n",
      "Successfully installed torch-2.0.1 torchaudio-2.0.2 torchvision-0.15.2\n"
     ]
    }
   ],
   "source": [
    "! pip install fiftyone==0.21.4\n",
    "! pip install torch torchvision torchaudio\n"
   ]
  },
  {
   "cell_type": "markdown",
   "id": "fb9afb40",
   "metadata": {
    "id": "fb9afb40"
   },
   "source": [
    "Load dữ liệu keyframe từ thư mục chứa keyframe. Mỗi ảnh và thông tin đi kèm sau này sẽ được lưu trữ trong một Sample. Tất cả các Sample được lưu trong Dataset."
   ]
  },
  {
   "cell_type": "code",
   "execution_count": 1,
   "id": "357d4489",
   "metadata": {
    "id": "357d4489"
   },
   "outputs": [],
   "source": [
    "import fiftyone as fo\n",
    "import fiftyone.brain as fob\n",
    "import numpy as np\n",
    "from glob import glob\n",
    "import json\n",
    "import os"
   ]
  },
  {
   "cell_type": "markdown",
   "id": "36b7ba43",
   "metadata": {
    "id": "36b7ba43"
   },
   "source": [
    "Load dữ liệu keyframe từ thư mục chứa keyframe. Trong hướng dẫn này tất cả các file Keyframes_L*.zip được giải nén vào thư mục `D:\\AIC\\Keyframes`. Mỗi ảnh và thông tin đi kèm sau này sẽ được lưu trữ trong một `Sample`. Tất cả các `Sample` được lưu trong `Dataset`."
   ]
  },
  {
   "cell_type": "code",
   "execution_count": 2,
   "id": "9e072688",
   "metadata": {
    "id": "9e072688"
   },
   "outputs": [
    {
     "name": "stdout",
     "output_type": "stream",
     "text": []
    },
    {
     "name": "stdout",
     "output_type": "stream",
     "text": [
      " 100% |█████████████| 86940/86940 [17.6s elapsed, 0s remaining, 5.1K samples/s]      \n"
     ]
    }
   ],
   "source": [
    "dataset = fo.Dataset.from_images_dir('E:\\\\BKHIGHTECH\\\\Challenge\\\\AIC23 HCM\\\\Dataset\\\\Test\\\\keyframes', name=None, tags=None, recursive=True)"
   ]
  },
  {
   "cell_type": "markdown",
   "id": "9b89e71c",
   "metadata": {
    "id": "9b89e71c"
   },
   "source": [
    "Sau khi dữ liệu đã load lên xong. Bạn có thể truy cập vào đường vào ứng dụng web của fiftyone từ [http://localhost:5151](http://localhost:5151)"
   ]
  },
  {
   "cell_type": "code",
   "execution_count": 4,
   "id": "58be11b8",
   "metadata": {
    "id": "58be11b8"
   },
   "outputs": [
    {
     "name": "stdout",
     "output_type": "stream",
     "text": [
      "\n",
      "Could not connect session, trying again in 10 seconds\n",
      "\n",
      "Session launched. Run `session.show()` to open the App in a cell output.\n"
     ]
    }
   ],
   "source": [
    "session = fo.launch_app(dataset, auto=False)"
   ]
  },
  {
   "cell_type": "markdown",
   "id": "078ce744",
   "metadata": {
    "id": "078ce744"
   },
   "source": [
    "Hoặc bạn có thể chạy cell bên dưới để mở tab mới cho ứng dụng web fiftyone"
   ]
  },
  {
   "cell_type": "code",
   "execution_count": 5,
   "id": "bce0d9ce",
   "metadata": {
    "id": "bce0d9ce"
   },
   "outputs": [
    {
     "data": {
      "application/javascript": [
       "window.open('http://localhost:5151/');"
      ],
      "text/plain": [
       "<IPython.core.display.Javascript object>"
      ]
     },
     "metadata": {},
     "output_type": "display_data"
    }
   ],
   "source": [
    "session.open_tab()"
   ]
  },
  {
   "cell_type": "markdown",
   "id": "28298924",
   "metadata": {
    "id": "28298924"
   },
   "source": [
    "### Trích xuất thêm thông tin tên của video và frameid\n",
    "Thông tin `video` và `frameid` sẽ được lấy từ tên của tập tin keyframe."
   ]
  },
  {
   "cell_type": "code",
   "execution_count": 6,
   "id": "a8ee02ad",
   "metadata": {
    "id": "a8ee02ad"
   },
   "outputs": [],
   "source": [
    "for sample in dataset:\n",
    "    _, sample['video'], sample['frameid'] = sample['filepath'][:-4].rsplit('\\\\', 2)\n",
    "    sample.save()"
   ]
  },
  {
   "cell_type": "markdown",
   "id": "11d66008",
   "metadata": {
    "id": "11d66008"
   },
   "source": [
    "Bạn có thể xem `Sample` đầu tiên của `Dataset` bằng lệnh sau:"
   ]
  },
  {
   "cell_type": "code",
   "execution_count": 7,
   "id": "6997ef1c",
   "metadata": {
    "id": "6997ef1c"
   },
   "outputs": [
    {
     "name": "stdout",
     "output_type": "stream",
     "text": [
      "<Sample: {\n",
      "    'id': '64fec309f3e66a3716a46067',\n",
      "    'media_type': 'image',\n",
      "    'filepath': 'E:\\\\BKHIGHTECH\\\\Challenge\\\\AIC23 HCM\\\\Dataset\\\\Test\\\\keyframes\\\\L01_V001\\\\0001.jpg',\n",
      "    'tags': [],\n",
      "    'metadata': None,\n",
      "    'video': 'L01_V001',\n",
      "    'frameid': '0001',\n",
      "}>\n"
     ]
    }
   ],
   "source": [
    "print(dataset.first())"
   ]
  },
  {
   "cell_type": "markdown",
   "id": "4309a34f",
   "metadata": {
    "id": "4309a34f",
    "tags": []
   },
   "source": [
    "### Thêm thông tin kết quả của object detection.\n",
    "\n",
    "Bước này có thể tốn của bạn nhiều thời gian để đọc hết tất cả các dữ liệu về object detection. Bạn có thể bỏ qua cell này và chạy cell này sau nếu muốn thử thêm các thông tin về vector CLIP embedding trước."
   ]
  },
  {
   "cell_type": "code",
   "execution_count": null,
   "id": "ad1c4395",
   "metadata": {
    "id": "ad1c4395"
   },
   "outputs": [],
   "source": [
    "for sample in dataset:\n",
    "    object_path = f\"E:\\\\BKHIGHTECH\\\\Challenge\\\\AIC23 HCM\\\\Dataset\\\\Test\\\\objects\\\\{sample['video']}\\\\{sample['frameid']}.json\"\n",
    "    with open(object_path) as jsonfile:\n",
    "        det_data = json.load(jsonfile)\n",
    "    detections = []\n",
    "    for cls, box, score in zip(det_data['detection_class_entities'], det_data['detection_boxes'], det_data['detection_scores']):\n",
    "        # Convert to [top-left-x, top-left-y, width, height]\n",
    "        boxf = [float(box[1]), float(box[0]), float(box[3]) - float(box[1]), float(box[2]) - float(box[0])]\n",
    "        scoref = float(score)\n",
    "\n",
    "        # Only add objects with confidence > 0.4\n",
    "        if scoref > 0.4:\n",
    "            detections.append(\n",
    "                fo.Detection(\n",
    "                    label=cls,\n",
    "                    bounding_box= boxf,\n",
    "                    confidence=float(score)\n",
    "                )\n",
    "            )\n",
    "    sample[\"object_faster_rcnn\"] = fo.Detections(detections=detections)\n",
    "    sample.save()\n"
   ]
  },
  {
   "cell_type": "markdown",
   "id": "e287dbb4",
   "metadata": {
    "id": "e287dbb4"
   },
   "source": [
    "### Thêm thông tin CLIP embedding."
   ]
  },
  {
   "cell_type": "code",
   "execution_count": null,
   "id": "58d5d9ca",
   "metadata": {
    "id": "58d5d9ca"
   },
   "outputs": [],
   "source": [
    "all_keyframe = glob('E:\\\\BKHIGHTECH\\\\Challenge\\\\AIC23 HCM\\\\Dataset\\\\Test\\\\keyframes\\\\*\\\\*.jpg')\n",
    "video_keyframe_dict = {}\n",
    "all_video = glob('E:\\\\BKHIGHTECH\\\\Challenge\\\\AIC23 HCM\\\\Dataset\\\\Test\\\\keyframes\\\\*')\n",
    "all_video = [v.rsplit('\\\\',1)[-1] for v in all_video]"
   ]
  },
  {
   "cell_type": "markdown",
   "id": "53460b70",
   "metadata": {
    "id": "53460b70"
   },
   "source": [
    "Đọc thông tin clip embedding được cung cấp.\n",
    "\n",
    "Lưu ý: Các bạn cần tải đúng bản CLIP embedding từ model **CLIP ViT-B/32**"
   ]
  },
  {
   "cell_type": "markdown",
   "id": "cb927629",
   "metadata": {
    "id": "cb927629"
   },
   "source": [
    "Tạo dictionary `video_keyframe_dict` với `video_keyframe_dict[video]` thông tin danh sách `keyframe` của `video`"
   ]
  },
  {
   "cell_type": "code",
   "execution_count": null,
   "id": "f33da133",
   "metadata": {
    "id": "f33da133"
   },
   "outputs": [],
   "source": [
    "for kf in all_keyframe:\n",
    "    _, vid, kf = kf[:-4].rsplit('\\\\',2)\n",
    "    if vid not in video_keyframe_dict.keys():\n",
    "        video_keyframe_dict[vid] = [kf]\n",
    "    else:\n",
    "        video_keyframe_dict[vid].append(kf)"
   ]
  },
  {
   "cell_type": "markdown",
   "id": "faefe0bf",
   "metadata": {
    "id": "faefe0bf"
   },
   "source": [
    "Do thông tin vector CLIP embedding được cung cấp được lưu theo từng video nhầm mục đích tối ưu thời gian đọc dữ liệu. Cần sort lại danh sách `keyframe` của từng `video` để đảm bảo thứ tự đọc đúng với vector embedding được cung cấp."
   ]
  },
  {
   "cell_type": "code",
   "execution_count": null,
   "id": "4b0fad7a",
   "metadata": {
    "id": "4b0fad7a"
   },
   "outputs": [],
   "source": [
    "for k,v in video_keyframe_dict.items():\n",
    "    video_keyframe_dict[k] = sorted(v)"
   ]
  },
  {
   "cell_type": "markdown",
   "id": "9d99d121",
   "metadata": {
    "id": "9d99d121"
   },
   "source": [
    "Tạo dictionary `embedding_dict` với `embedding_dict[video][keyframe]` lưu thông tin vector CLIP embedding của `keyframe` trong `video` tương ứng"
   ]
  },
  {
   "cell_type": "code",
   "execution_count": null,
   "id": "a5d94d7b",
   "metadata": {
    "id": "a5d94d7b"
   },
   "outputs": [],
   "source": [
    "embedding_dict = {}\n",
    "for v in all_video:\n",
    "    clip_path = f'E:\\\\BKHIGHTECH\\\\Challenge\\\\AIC23 HCM\\\\Dataset\\\\Test\\\\clip-features-vit-b32\\\\{v}.npy'\n",
    "    a = np.load(clip_path)\n",
    "    embedding_dict[v] = {}\n",
    "    for i,k in enumerate(video_keyframe_dict[v]):\n",
    "        embedding_dict[v][k] = a[i]\n"
   ]
  },
  {
   "cell_type": "markdown",
   "id": "5ea0432e",
   "metadata": {
    "id": "5ea0432e"
   },
   "source": [
    "Tạo danh sách `clip_embedding` ứng với danh sách `sample` trong `dataset`."
   ]
  },
  {
   "cell_type": "code",
   "execution_count": null,
   "id": "1ad16b5c",
   "metadata": {
    "id": "1ad16b5c"
   },
   "outputs": [],
   "source": [
    "clip_embeddings = []\n",
    "for sample in dataset:\n",
    "    clip_embedding = embedding_dict[sample['video']][sample['frameid']]\n",
    "    clip_embeddings.append(clip_embedding)\n"
   ]
  },
  {
   "cell_type": "code",
   "execution_count": null,
   "id": "655d2feb",
   "metadata": {
    "id": "655d2feb"
   },
   "outputs": [],
   "source": [
    "fob.compute_similarity(\n",
    "    dataset,\n",
    "    model=\"clip-vit-base32-torch\",      # store model's name for future use\n",
    "    embeddings=clip_embeddings,          # precomputed image embeddings\n",
    "    brain_key=\"img_sim\",\n",
    ")"
   ]
  },
  {
   "cell_type": "markdown",
   "id": "99223338",
   "metadata": {
    "id": "99223338"
   },
   "source": [
    "## Từ đây các bạn có thể thử các tính năng search, filter trên ứng dụng fiftyone."
   ]
  },
  {
   "cell_type": "code",
   "execution_count": null,
   "id": "46605386",
   "metadata": {
    "id": "46605386"
   },
   "outputs": [],
   "source": [
    "# Bạn cần phải cài version umap-learn hỗ trợ.\n",
    "fob.compute_visualization(\n",
    "    dataset,\n",
    "    embeddings=clip_embeddings,\n",
    "    brain_key=\"img_viz\"\n",
    ")\n"
   ]
  },
  {
   "cell_type": "markdown",
   "id": "381972d8",
   "metadata": {
    "id": "381972d8"
   },
   "source": []
  }
 ],
 "metadata": {
  "colab": {
   "provenance": []
  },
  "kernelspec": {
   "display_name": "Python 3 (ipykernel)",
   "language": "python",
   "name": "python3"
  },
  "language_info": {
   "codemirror_mode": {
    "name": "ipython",
    "version": 3
   },
   "file_extension": ".py",
   "mimetype": "text/x-python",
   "name": "python",
   "nbconvert_exporter": "python",
   "pygments_lexer": "ipython3",
   "version": "3.10.9"
  }
 },
 "nbformat": 4,
 "nbformat_minor": 5
}
