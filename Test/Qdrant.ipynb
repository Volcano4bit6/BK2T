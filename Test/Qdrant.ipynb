{
 "cells": [
  {
   "cell_type": "markdown",
   "id": "fdf51a7b-1c00-4635-9789-5a7d5e261df4",
   "metadata": {},
   "source": [
    "# Install"
   ]
  },
  {
   "cell_type": "code",
   "execution_count": 13,
   "id": "ff8f1611-588c-42b7-9084-7bd9a1233e42",
   "metadata": {},
   "outputs": [
    {
     "name": "stdout",
     "output_type": "stream",
     "text": [
      "Requirement already satisfied: qdrant-client in c:\\users\\pc22002\\anaconda3\\lib\\site-packages (1.4.0)\n",
      "Requirement already satisfied: numpy>=1.21 in c:\\users\\pc22002\\anaconda3\\lib\\site-packages (from qdrant-client) (1.23.5)\n",
      "Requirement already satisfied: pydantic>=1.10.8 in c:\\users\\pc22002\\anaconda3\\lib\\site-packages (from qdrant-client) (2.3.0)\n",
      "Requirement already satisfied: grpcio>=1.41.0 in c:\\users\\pc22002\\anaconda3\\lib\\site-packages (from qdrant-client) (1.57.0)\n",
      "Requirement already satisfied: urllib3<2.0.0,>=1.26.14 in c:\\users\\pc22002\\anaconda3\\lib\\site-packages (from qdrant-client) (1.26.14)\n",
      "Requirement already satisfied: grpcio-tools>=1.41.0 in c:\\users\\pc22002\\anaconda3\\lib\\site-packages (from qdrant-client) (1.57.0)\n",
      "Requirement already satisfied: portalocker<3.0.0,>=2.7.0 in c:\\users\\pc22002\\anaconda3\\lib\\site-packages (from qdrant-client) (2.7.0)\n",
      "Requirement already satisfied: httpx[http2]>=0.14.0 in c:\\users\\pc22002\\anaconda3\\lib\\site-packages (from qdrant-client) (0.24.1)\n",
      "Requirement already satisfied: setuptools in c:\\users\\pc22002\\anaconda3\\lib\\site-packages (from grpcio-tools>=1.41.0->qdrant-client) (65.6.3)\n",
      "Requirement already satisfied: protobuf<5.0dev,>=4.21.6 in c:\\users\\pc22002\\anaconda3\\lib\\site-packages (from grpcio-tools>=1.41.0->qdrant-client) (4.24.2)\n",
      "Requirement already satisfied: sniffio in c:\\users\\pc22002\\anaconda3\\lib\\site-packages (from httpx[http2]>=0.14.0->qdrant-client) (1.2.0)\n",
      "Requirement already satisfied: certifi in c:\\users\\pc22002\\anaconda3\\lib\\site-packages (from httpx[http2]>=0.14.0->qdrant-client) (2022.12.7)\n",
      "Requirement already satisfied: httpcore<0.18.0,>=0.15.0 in c:\\users\\pc22002\\anaconda3\\lib\\site-packages (from httpx[http2]>=0.14.0->qdrant-client) (0.17.3)\n",
      "Requirement already satisfied: idna in c:\\users\\pc22002\\anaconda3\\lib\\site-packages (from httpx[http2]>=0.14.0->qdrant-client) (3.4)\n",
      "Requirement already satisfied: h2<5,>=3 in c:\\users\\pc22002\\anaconda3\\lib\\site-packages (from httpx[http2]>=0.14.0->qdrant-client) (4.1.0)\n",
      "Requirement already satisfied: pywin32>=226 in c:\\users\\pc22002\\anaconda3\\lib\\site-packages (from portalocker<3.0.0,>=2.7.0->qdrant-client) (305.1)\n",
      "Requirement already satisfied: pydantic-core==2.6.3 in c:\\users\\pc22002\\anaconda3\\lib\\site-packages (from pydantic>=1.10.8->qdrant-client) (2.6.3)\n",
      "Requirement already satisfied: annotated-types>=0.4.0 in c:\\users\\pc22002\\anaconda3\\lib\\site-packages (from pydantic>=1.10.8->qdrant-client) (0.5.0)\n",
      "Requirement already satisfied: typing-extensions>=4.6.1 in c:\\users\\pc22002\\anaconda3\\lib\\site-packages (from pydantic>=1.10.8->qdrant-client) (4.7.1)\n",
      "Requirement already satisfied: hpack<5,>=4.0 in c:\\users\\pc22002\\anaconda3\\lib\\site-packages (from h2<5,>=3->httpx[http2]>=0.14.0->qdrant-client) (4.0.0)\n",
      "Requirement already satisfied: hyperframe<7,>=6.0 in c:\\users\\pc22002\\anaconda3\\lib\\site-packages (from h2<5,>=3->httpx[http2]>=0.14.0->qdrant-client) (6.0.1)\n",
      "Requirement already satisfied: anyio<5.0,>=3.0 in c:\\users\\pc22002\\anaconda3\\lib\\site-packages (from httpcore<0.18.0,>=0.15.0->httpx[http2]>=0.14.0->qdrant-client) (3.5.0)\n",
      "Requirement already satisfied: h11<0.15,>=0.13 in c:\\users\\pc22002\\anaconda3\\lib\\site-packages (from httpcore<0.18.0,>=0.15.0->httpx[http2]>=0.14.0->qdrant-client) (0.14.0)\n"
     ]
    }
   ],
   "source": [
    "!pip install qdrant-client"
   ]
  },
  {
   "cell_type": "code",
   "execution_count": 14,
   "id": "3b5194b5-b699-4195-b65f-8133c5f7dc98",
   "metadata": {},
   "outputs": [
    {
     "data": {
      "text/plain": [
       "<qdrant_client.qdrant_client.QdrantClient at 0x2493b3a04c0>"
      ]
     },
     "execution_count": 14,
     "metadata": {},
     "output_type": "execute_result"
    }
   ],
   "source": [
    "# Import client library\n",
    "from qdrant_client import QdrantClient\n",
    "from qdrant_client.models import VectorParams, Distance\n",
    "\n",
    "qdrant_client = QdrantClient(\"localhost\", port=6333)\n",
    "qdrant_client"
   ]
  },
  {
   "cell_type": "code",
   "execution_count": 27,
   "id": "a8e15117-cf67-4dbf-918a-30208a91e672",
   "metadata": {},
   "outputs": [],
   "source": [
    "# Load example vector\n",
    "import numpy as np\n",
    "# pivot_vector = np.load(\"E:\\BKHIGHTECH\\Challenge\\AIC23 HCM\\Dataset\\Test\\clip-features-vit-b32\\L01_V001.npy\")\n",
    "pivot_vector = np.load(\"E:\\BKHIGHTECH\\Working\\VN_SmartInsideAI\\Week26\\emb\\S005_osnet_x1_0.npy\", allow_pickle=True)\n",
    "pivot_vector = pivot_vector.tolist()\n",
    "pivot_vector = [pivot.tolist() for pivot in pivot_vector]"
   ]
  },
  {
   "cell_type": "code",
   "execution_count": 16,
   "id": "0e071f61-f7e0-4613-85dc-28402570a2ef",
   "metadata": {},
   "outputs": [
    {
     "data": {
      "text/plain": [
       "True"
      ]
     },
     "execution_count": 16,
     "metadata": {},
     "output_type": "execute_result"
    }
   ],
   "source": [
    "qdrant_client.recreate_collection(\n",
    "    collection_name='SmartinsideAI_MOT', \n",
    "    vectors_config=VectorParams(size=512, distance=Distance.COSINE)\n",
    ")"
   ]
  },
  {
   "cell_type": "code",
   "execution_count": 30,
   "id": "b8498edb-3e1e-478c-b9eb-90c17b95e33a",
   "metadata": {},
   "outputs": [
    {
     "data": {
      "text/plain": [
       "18822"
      ]
     },
     "execution_count": 30,
     "metadata": {},
     "output_type": "execute_result"
    }
   ],
   "source": [
    "total_emb = len(pivot_vector)\n",
    "index = list(range(total_emb))\n",
    "total_emb"
   ]
  },
  {
   "cell_type": "code",
   "execution_count": 32,
   "id": "d33d6e38-358b-4a71-be2f-8c98659fdf19",
   "metadata": {},
   "outputs": [],
   "source": [
    "from qdrant_client.models import Batch\n",
    "\n",
    "previous = 0\n",
    "step = 1000\n",
    "range_size = total_emb//step\n",
    "for up in range(range_size):\n",
    "    nextt = (up+1)*step if up != range_size-1 else total_emb\n",
    "    qdrant_client.upsert(\n",
    "        collection_name='SmartinsideAI_MOT',\n",
    "        points = Batch(\n",
    "            ids=index[previous:nextt],\n",
    "            vectors=pivot_vector[previous:nextt]\n",
    "        )\n",
    "    )\n",
    "    previous = nextt"
   ]
  },
  {
   "cell_type": "code",
   "execution_count": null,
   "id": "092c81bb-5532-4b0a-8726-8fa1ae0c8031",
   "metadata": {},
   "outputs": [],
   "source": []
  }
 ],
 "metadata": {
  "kernelspec": {
   "display_name": "Python 3 (ipykernel)",
   "language": "python",
   "name": "python3"
  },
  "language_info": {
   "codemirror_mode": {
    "name": "ipython",
    "version": 3
   },
   "file_extension": ".py",
   "mimetype": "text/x-python",
   "name": "python",
   "nbconvert_exporter": "python",
   "pygments_lexer": "ipython3",
   "version": "3.10.9"
  }
 },
 "nbformat": 4,
 "nbformat_minor": 5
}
